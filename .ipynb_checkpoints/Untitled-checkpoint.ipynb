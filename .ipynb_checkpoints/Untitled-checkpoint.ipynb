{
 "cells": [
  {
   "cell_type": "markdown",
   "metadata": {
    "toc": true
   },
   "source": [
    "<h1>Table of Contents<span class=\"tocSkip\"></span></h1>\n",
    "<div class=\"toc\"><ul class=\"toc-item\"><li><span><a href=\"#Imports-and-Loading-data\" data-toc-modified-id=\"Imports-and-Loading-data-1\"><span class=\"toc-item-num\">1&nbsp;&nbsp;</span>Imports and Loading data</a></span><ul class=\"toc-item\"><li><span><a href=\"#Scraping-wikipedia\" data-toc-modified-id=\"Scraping-wikipedia-1.1\"><span class=\"toc-item-num\">1.1&nbsp;&nbsp;</span>Scraping wikipedia</a></span><ul class=\"toc-item\"><li><span><a href=\"#Presidents\" data-toc-modified-id=\"Presidents-1.1.1\"><span class=\"toc-item-num\">1.1.1&nbsp;&nbsp;</span>Presidents</a></span></li><li><span><a href=\"#First-Ladies\" data-toc-modified-id=\"First-Ladies-1.1.2\"><span class=\"toc-item-num\">1.1.2&nbsp;&nbsp;</span>First Ladies</a></span></li></ul></li></ul></li></ul></div>"
   ]
  },
  {
   "cell_type": "markdown",
   "metadata": {},
   "source": [
    "## Imports and Loading data"
   ]
  },
  {
   "cell_type": "code",
   "execution_count": 1,
   "metadata": {
    "ExecuteTime": {
     "end_time": "2020-10-01T10:48:16.415468Z",
     "start_time": "2020-10-01T10:48:14.951801Z"
    }
   },
   "outputs": [],
   "source": [
    "from bs4 import BeautifulSoup\n",
    "import pandas as pd\n",
    "import requests"
   ]
  },
  {
   "cell_type": "code",
   "execution_count": 20,
   "metadata": {
    "ExecuteTime": {
     "end_time": "2020-10-01T10:54:29.491517Z",
     "start_time": "2020-10-01T10:54:29.470520Z"
    }
   },
   "outputs": [
    {
     "data": {
      "text/html": [
       "<div>\n",
       "<style scoped>\n",
       "    .dataframe tbody tr th:only-of-type {\n",
       "        vertical-align: middle;\n",
       "    }\n",
       "\n",
       "    .dataframe tbody tr th {\n",
       "        vertical-align: top;\n",
       "    }\n",
       "\n",
       "    .dataframe thead th {\n",
       "        text-align: right;\n",
       "    }\n",
       "</style>\n",
       "<table border=\"1\" class=\"dataframe\">\n",
       "  <thead>\n",
       "    <tr style=\"text-align: right;\">\n",
       "      <th></th>\n",
       "      <th>S.No.</th>\n",
       "      <th>start</th>\n",
       "      <th>end</th>\n",
       "      <th>president</th>\n",
       "      <th>prior</th>\n",
       "      <th>party</th>\n",
       "      <th>vice</th>\n",
       "    </tr>\n",
       "  </thead>\n",
       "  <tbody>\n",
       "    <tr>\n",
       "      <th>0</th>\n",
       "      <td>1</td>\n",
       "      <td>April 30, 1789</td>\n",
       "      <td>March 4, 1797</td>\n",
       "      <td>George Washington</td>\n",
       "      <td>Commander-in-Chief  of the  Continental Army  ...</td>\n",
       "      <td>Nonpartisan   [13]</td>\n",
       "      <td>John Adams</td>\n",
       "    </tr>\n",
       "    <tr>\n",
       "      <th>1</th>\n",
       "      <td>2</td>\n",
       "      <td>March 4, 1797</td>\n",
       "      <td>March 4, 1801</td>\n",
       "      <td>John Adams</td>\n",
       "      <td>1st  Vice President of the United States</td>\n",
       "      <td>Federalist</td>\n",
       "      <td>Thomas Jefferson</td>\n",
       "    </tr>\n",
       "    <tr>\n",
       "      <th>2</th>\n",
       "      <td>3</td>\n",
       "      <td>March 4, 1801</td>\n",
       "      <td>March 4, 1809</td>\n",
       "      <td>Thomas Jefferson</td>\n",
       "      <td>2nd  Vice President of the United States</td>\n",
       "      <td>Democratic-  Republican</td>\n",
       "      <td>Aaron Burr</td>\n",
       "    </tr>\n",
       "    <tr>\n",
       "      <th>3</th>\n",
       "      <td>4</td>\n",
       "      <td>March 4, 1809</td>\n",
       "      <td>March 4, 1817</td>\n",
       "      <td>James Madison</td>\n",
       "      <td>5th  United States Secretary of State   (1801–...</td>\n",
       "      <td>Democratic-  Republican</td>\n",
       "      <td>George Clinton</td>\n",
       "    </tr>\n",
       "    <tr>\n",
       "      <th>4</th>\n",
       "      <td>5</td>\n",
       "      <td>March 4, 1817</td>\n",
       "      <td>March 4, 1825</td>\n",
       "      <td>James Monroe</td>\n",
       "      <td>7th  United States Secretary of State   (1811–...</td>\n",
       "      <td>Democratic-  Republican</td>\n",
       "      <td>Daniel D. Tompkins</td>\n",
       "    </tr>\n",
       "  </tbody>\n",
       "</table>\n",
       "</div>"
      ],
      "text/plain": [
       "   S.No.           start            end          president  \\\n",
       "0      1  April 30, 1789  March 4, 1797  George Washington   \n",
       "1      2   March 4, 1797  March 4, 1801         John Adams   \n",
       "2      3   March 4, 1801  March 4, 1809   Thomas Jefferson   \n",
       "3      4   March 4, 1809  March 4, 1817      James Madison   \n",
       "4      5   March 4, 1817  March 4, 1825       James Monroe   \n",
       "\n",
       "                                               prior                    party  \\\n",
       "0  Commander-in-Chief  of the  Continental Army  ...       Nonpartisan   [13]   \n",
       "1           1st  Vice President of the United States               Federalist   \n",
       "2           2nd  Vice President of the United States  Democratic-  Republican   \n",
       "3  5th  United States Secretary of State   (1801–...  Democratic-  Republican   \n",
       "4  7th  United States Secretary of State   (1811–...  Democratic-  Republican   \n",
       "\n",
       "                 vice  \n",
       "0          John Adams  \n",
       "1    Thomas Jefferson  \n",
       "2          Aaron Burr  \n",
       "3      George Clinton  \n",
       "4  Daniel D. Tompkins  "
      ]
     },
     "execution_count": 20,
     "metadata": {},
     "output_type": "execute_result"
    }
   ],
   "source": [
    "# https://www.kaggle.com/harshitagpt/us-presidents\n",
    "us_pres = pd.read_csv('us_presidents.csv')\n",
    "us_pres.drop([us_pres.columns[0]], axis=1, inplace=True)\n",
    "us_pres.head()"
   ]
  },
  {
   "cell_type": "markdown",
   "metadata": {},
   "source": [
    "### Scraping wikipedia"
   ]
  },
  {
   "cell_type": "code",
   "execution_count": 81,
   "metadata": {
    "ExecuteTime": {
     "end_time": "2020-10-01T11:16:21.497560Z",
     "start_time": "2020-10-01T11:16:20.846483Z"
    }
   },
   "outputs": [],
   "source": [
    "url_presidents = \"https://en.wikipedia.org/wiki/List_of_presidents_of_the_United_States\"\n",
    "url_first_ladies = \"https://en.wikipedia.org/wiki/List_of_first_ladies_of_the_United_States\"\n",
    "\n",
    "p_html = requests.get(url_presidents)\n",
    "f_html = requests.get(url_first_ladies)"
   ]
  },
  {
   "cell_type": "markdown",
   "metadata": {},
   "source": [
    "#### Presidents"
   ]
  },
  {
   "cell_type": "code",
   "execution_count": 90,
   "metadata": {
    "ExecuteTime": {
     "end_time": "2020-10-01T11:17:36.323186Z",
     "start_time": "2020-10-01T11:17:36.197167Z"
    }
   },
   "outputs": [],
   "source": [
    "p_soup = BeautifulSoup(p_html.content, 'html.parser')"
   ]
  },
  {
   "cell_type": "code",
   "execution_count": 100,
   "metadata": {
    "ExecuteTime": {
     "end_time": "2020-10-01T11:19:07.509351Z",
     "start_time": "2020-10-01T11:19:07.498343Z"
    }
   },
   "outputs": [
    {
     "name": "stdout",
     "output_type": "stream",
     "text": [
      "<tr>\n",
      "<td><a href=\"jadams.html\">John Adams</a></td>\n",
      "<td>Oct 30, 1735</td>\n",
      "<td><a href=\"http://www.presidentsusa.net/jadamsbirthplace.html\" title=\"Photographs of John Adams Birthplace\">Quincy, Mass.</a></td>\n",
      "<td>July 4, 1826</td>\n",
      "<td>Quincy, Mass.</td>\n",
      "</tr>\n"
     ]
    }
   ],
   "source": [
    "table = p_soup.find_all('table')[0]\n",
    "print(table.find_all('tr')[2])"
   ]
  },
  {
   "cell_type": "code",
   "execution_count": null,
   "metadata": {},
   "outputs": [],
   "source": [
    "table."
   ]
  },
  {
   "cell_type": "code",
   "execution_count": null,
   "metadata": {},
   "outputs": [],
   "source": [
    "a."
   ]
  },
  {
   "cell_type": "code",
   "execution_count": null,
   "metadata": {},
   "outputs": [],
   "source": []
  },
  {
   "cell_type": "markdown",
   "metadata": {},
   "source": [
    "#### First Ladies"
   ]
  },
  {
   "cell_type": "code",
   "execution_count": null,
   "metadata": {},
   "outputs": [],
   "source": [
    "f_soup = BeautifulSoup(f_html.content, 'html.parser')"
   ]
  }
 ],
 "metadata": {
  "kernelspec": {
   "display_name": "learn-env",
   "language": "python",
   "name": "learn-env"
  },
  "language_info": {
   "codemirror_mode": {
    "name": "ipython",
    "version": 3
   },
   "file_extension": ".py",
   "mimetype": "text/x-python",
   "name": "python",
   "nbconvert_exporter": "python",
   "pygments_lexer": "ipython3",
   "version": "3.6.9"
  },
  "toc": {
   "base_numbering": 1,
   "nav_menu": {},
   "number_sections": true,
   "sideBar": true,
   "skip_h1_title": false,
   "title_cell": "Table of Contents",
   "title_sidebar": "Contents",
   "toc_cell": true,
   "toc_position": {},
   "toc_section_display": true,
   "toc_window_display": false
  }
 },
 "nbformat": 4,
 "nbformat_minor": 2
}
