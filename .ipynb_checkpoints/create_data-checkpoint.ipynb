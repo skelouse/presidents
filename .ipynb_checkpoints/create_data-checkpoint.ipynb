{
 "cells": [
  {
   "cell_type": "markdown",
   "metadata": {
    "toc": true
   },
   "source": [
    "<h1>Table of Contents<span class=\"tocSkip\"></span></h1>\n",
    "<div class=\"toc\"><ul class=\"toc-item\"><li><span><a href=\"#Imports-and-Loading-data\" data-toc-modified-id=\"Imports-and-Loading-data-1\"><span class=\"toc-item-num\">1&nbsp;&nbsp;</span>Imports and Loading data</a></span><ul class=\"toc-item\"><li><span><a href=\"#Scraping-wikipedia\" data-toc-modified-id=\"Scraping-wikipedia-1.1\"><span class=\"toc-item-num\">1.1&nbsp;&nbsp;</span>Scraping wikipedia</a></span></li></ul></li><li><span><a href=\"#Presidents\" data-toc-modified-id=\"Presidents-2\"><span class=\"toc-item-num\">2&nbsp;&nbsp;</span>Presidents</a></span><ul class=\"toc-item\"><li><span><a href=\"#Accounting-for-Glover-Cleveland's-two-separate-terms\" data-toc-modified-id=\"Accounting-for-Glover-Cleveland's-two-separate-terms-2.1\"><span class=\"toc-item-num\">2.1&nbsp;&nbsp;</span>Accounting for Glover Cleveland's two separate terms</a></span></li></ul></li><li><span><a href=\"#First-Ladies\" data-toc-modified-id=\"First-Ladies-3\"><span class=\"toc-item-num\">3&nbsp;&nbsp;</span>First Ladies</a></span><ul class=\"toc-item\"><li><span><a href=\"#Saving-to-clean\" data-toc-modified-id=\"Saving-to-clean-3.1\"><span class=\"toc-item-num\">3.1&nbsp;&nbsp;</span>Saving to clean</a></span></li></ul></li></ul></div>"
   ]
  },
  {
   "cell_type": "markdown",
   "metadata": {},
   "source": [
    "## Imports and Loading data"
   ]
  },
  {
   "cell_type": "code",
   "execution_count": 1,
   "metadata": {
    "ExecuteTime": {
     "end_time": "2020-10-01T14:26:10.719607Z",
     "start_time": "2020-10-01T14:26:10.151580Z"
    }
   },
   "outputs": [],
   "source": [
    "from bs4 import BeautifulSoup\n",
    "import pandas as pd\n",
    "import numpy as np\n",
    "import requests"
   ]
  },
  {
   "cell_type": "code",
   "execution_count": 2,
   "metadata": {
    "ExecuteTime": {
     "end_time": "2020-10-01T14:26:10.751607Z",
     "start_time": "2020-10-01T14:26:10.720607Z"
    }
   },
   "outputs": [
    {
     "data": {
      "text/html": [
       "<div>\n",
       "<style scoped>\n",
       "    .dataframe tbody tr th:only-of-type {\n",
       "        vertical-align: middle;\n",
       "    }\n",
       "\n",
       "    .dataframe tbody tr th {\n",
       "        vertical-align: top;\n",
       "    }\n",
       "\n",
       "    .dataframe thead th {\n",
       "        text-align: right;\n",
       "    }\n",
       "</style>\n",
       "<table border=\"1\" class=\"dataframe\">\n",
       "  <thead>\n",
       "    <tr style=\"text-align: right;\">\n",
       "      <th></th>\n",
       "      <th>start</th>\n",
       "      <th>end</th>\n",
       "      <th>president</th>\n",
       "      <th>prior</th>\n",
       "      <th>party</th>\n",
       "      <th>vice</th>\n",
       "    </tr>\n",
       "  </thead>\n",
       "  <tbody>\n",
       "    <tr>\n",
       "      <th>0</th>\n",
       "      <td>April 30, 1789</td>\n",
       "      <td>March 4, 1797</td>\n",
       "      <td>George Washington</td>\n",
       "      <td>Commander-in-Chief  of the  Continental Army  ...</td>\n",
       "      <td>Nonpartisan   [13]</td>\n",
       "      <td>John Adams</td>\n",
       "    </tr>\n",
       "    <tr>\n",
       "      <th>1</th>\n",
       "      <td>March 4, 1797</td>\n",
       "      <td>March 4, 1801</td>\n",
       "      <td>John Adams</td>\n",
       "      <td>1st  Vice President of the United States</td>\n",
       "      <td>Federalist</td>\n",
       "      <td>Thomas Jefferson</td>\n",
       "    </tr>\n",
       "    <tr>\n",
       "      <th>2</th>\n",
       "      <td>March 4, 1801</td>\n",
       "      <td>March 4, 1809</td>\n",
       "      <td>Thomas Jefferson</td>\n",
       "      <td>2nd  Vice President of the United States</td>\n",
       "      <td>Democratic-  Republican</td>\n",
       "      <td>Aaron Burr</td>\n",
       "    </tr>\n",
       "    <tr>\n",
       "      <th>3</th>\n",
       "      <td>March 4, 1809</td>\n",
       "      <td>March 4, 1817</td>\n",
       "      <td>James Madison</td>\n",
       "      <td>5th  United States Secretary of State   (1801–...</td>\n",
       "      <td>Democratic-  Republican</td>\n",
       "      <td>George Clinton</td>\n",
       "    </tr>\n",
       "    <tr>\n",
       "      <th>4</th>\n",
       "      <td>March 4, 1817</td>\n",
       "      <td>March 4, 1825</td>\n",
       "      <td>James Monroe</td>\n",
       "      <td>7th  United States Secretary of State   (1811–...</td>\n",
       "      <td>Democratic-  Republican</td>\n",
       "      <td>Daniel D. Tompkins</td>\n",
       "    </tr>\n",
       "  </tbody>\n",
       "</table>\n",
       "</div>"
      ],
      "text/plain": [
       "            start            end          president  \\\n",
       "0  April 30, 1789  March 4, 1797  George Washington   \n",
       "1   March 4, 1797  March 4, 1801         John Adams   \n",
       "2   March 4, 1801  March 4, 1809   Thomas Jefferson   \n",
       "3   March 4, 1809  March 4, 1817      James Madison   \n",
       "4   March 4, 1817  March 4, 1825       James Monroe   \n",
       "\n",
       "                                               prior                    party  \\\n",
       "0  Commander-in-Chief  of the  Continental Army  ...       Nonpartisan   [13]   \n",
       "1           1st  Vice President of the United States               Federalist   \n",
       "2           2nd  Vice President of the United States  Democratic-  Republican   \n",
       "3  5th  United States Secretary of State   (1801–...  Democratic-  Republican   \n",
       "4  7th  United States Secretary of State   (1811–...  Democratic-  Republican   \n",
       "\n",
       "                 vice  \n",
       "0          John Adams  \n",
       "1    Thomas Jefferson  \n",
       "2          Aaron Burr  \n",
       "3      George Clinton  \n",
       "4  Daniel D. Tompkins  "
      ]
     },
     "execution_count": 2,
     "metadata": {},
     "output_type": "execute_result"
    }
   ],
   "source": [
    "pres_df = pd.read_csv('us_presidents.csv')\n",
    "\n",
    "# Getting rid of index and seat.no\n",
    "pres_df.drop(pres_df.columns[:2], axis=1, inplace=True)\n",
    "pres_df.head()"
   ]
  },
  {
   "cell_type": "markdown",
   "metadata": {},
   "source": [
    "### Scraping wikipedia"
   ]
  },
  {
   "cell_type": "code",
   "execution_count": 3,
   "metadata": {
    "ExecuteTime": {
     "end_time": "2020-10-01T14:26:11.522236Z",
     "start_time": "2020-10-01T14:26:10.752608Z"
    }
   },
   "outputs": [],
   "source": [
    "url_presidents = \"https://www.presidentsusa.net/birth.html\"\n",
    "url_first_ladies = \"https://en.wikipedia.org/wiki/List_of_first_ladies_of_the_United_States\"\n",
    "\n",
    "p_html = requests.get(url_presidents)\n",
    "f_html = requests.get(url_first_ladies)"
   ]
  },
  {
   "cell_type": "markdown",
   "metadata": {},
   "source": [
    "## Presidents"
   ]
  },
  {
   "cell_type": "code",
   "execution_count": 4,
   "metadata": {
    "ExecuteTime": {
     "end_time": "2020-10-01T14:26:11.538236Z",
     "start_time": "2020-10-01T14:26:11.523239Z"
    }
   },
   "outputs": [],
   "source": [
    "p_soup = BeautifulSoup(p_html.content, 'lxml')"
   ]
  },
  {
   "cell_type": "code",
   "execution_count": 5,
   "metadata": {
    "ExecuteTime": {
     "end_time": "2020-10-01T14:26:11.553235Z",
     "start_time": "2020-10-01T14:26:11.539239Z"
    }
   },
   "outputs": [],
   "source": [
    "table = p_soup.find('table')\n",
    "idx1 = 0\n",
    "idx2 = 0\n",
    "\n",
    "presidents = []\n",
    "presidents.append([])\n",
    "for line in table.find_all('td'):\n",
    "    presidents[idx1].append(line.text)\n",
    "    idx2 += 1\n",
    "    if idx2 == 5:\n",
    "        idx2 = 0\n",
    "        idx1 += 1\n",
    "        presidents.append([])"
   ]
  },
  {
   "cell_type": "code",
   "execution_count": 6,
   "metadata": {
    "ExecuteTime": {
     "end_time": "2020-10-01T14:26:11.569239Z",
     "start_time": "2020-10-01T14:26:11.554239Z"
    }
   },
   "outputs": [],
   "source": [
    "cols = ['president', 'birth_date', 'birth_place', 'death_date', 'death_loc']\n",
    "us_pres = pd.DataFrame(presidents, columns=cols)"
   ]
  },
  {
   "cell_type": "markdown",
   "metadata": {},
   "source": [
    "### Accounting for Glover Cleveland's two separate terms"
   ]
  },
  {
   "cell_type": "code",
   "execution_count": 7,
   "metadata": {
    "ExecuteTime": {
     "end_time": "2020-10-01T14:26:11.585236Z",
     "start_time": "2020-10-01T14:26:11.570236Z"
    }
   },
   "outputs": [],
   "source": [
    "line = pd.DataFrame(us_pres.loc[21]).transpose()\n",
    "scraped_df = pd.concat([us_pres[:23], line, us_pres[23:]], axis=0)\n",
    "scraped_df = scraped_df.reset_index(drop=True)"
   ]
  },
  {
   "cell_type": "code",
   "execution_count": 8,
   "metadata": {
    "ExecuteTime": {
     "end_time": "2020-10-01T14:26:11.601236Z",
     "start_time": "2020-10-01T14:26:11.587238Z"
    }
   },
   "outputs": [
    {
     "data": {
      "text/html": [
       "<div>\n",
       "<style scoped>\n",
       "    .dataframe tbody tr th:only-of-type {\n",
       "        vertical-align: middle;\n",
       "    }\n",
       "\n",
       "    .dataframe tbody tr th {\n",
       "        vertical-align: top;\n",
       "    }\n",
       "\n",
       "    .dataframe thead th {\n",
       "        text-align: right;\n",
       "    }\n",
       "</style>\n",
       "<table border=\"1\" class=\"dataframe\">\n",
       "  <thead>\n",
       "    <tr style=\"text-align: right;\">\n",
       "      <th></th>\n",
       "      <th>president</th>\n",
       "      <th>birth_date</th>\n",
       "      <th>birth_place</th>\n",
       "      <th>death_date</th>\n",
       "      <th>death_loc</th>\n",
       "      <th>start</th>\n",
       "      <th>end</th>\n",
       "      <th>president</th>\n",
       "      <th>prior</th>\n",
       "      <th>party</th>\n",
       "      <th>vice</th>\n",
       "    </tr>\n",
       "    <tr>\n",
       "      <th>seat_no</th>\n",
       "      <th></th>\n",
       "      <th></th>\n",
       "      <th></th>\n",
       "      <th></th>\n",
       "      <th></th>\n",
       "      <th></th>\n",
       "      <th></th>\n",
       "      <th></th>\n",
       "      <th></th>\n",
       "      <th></th>\n",
       "      <th></th>\n",
       "    </tr>\n",
       "  </thead>\n",
       "  <tbody>\n",
       "    <tr>\n",
       "      <th>1</th>\n",
       "      <td>George Washington</td>\n",
       "      <td>Feb 22, 1732</td>\n",
       "      <td>Westmoreland Co., Va.</td>\n",
       "      <td>Dec 14, 1799</td>\n",
       "      <td>Mount Vernon, Va.</td>\n",
       "      <td>April 30, 1789</td>\n",
       "      <td>March 4, 1797</td>\n",
       "      <td>George Washington</td>\n",
       "      <td>Commander-in-Chief  of the  Continental Army  ...</td>\n",
       "      <td>Nonpartisan   [13]</td>\n",
       "      <td>John Adams</td>\n",
       "    </tr>\n",
       "    <tr>\n",
       "      <th>2</th>\n",
       "      <td>John Adams</td>\n",
       "      <td>Oct 30, 1735</td>\n",
       "      <td>Quincy, Mass.</td>\n",
       "      <td>July 4, 1826</td>\n",
       "      <td>Quincy, Mass.</td>\n",
       "      <td>March 4, 1797</td>\n",
       "      <td>March 4, 1801</td>\n",
       "      <td>John Adams</td>\n",
       "      <td>1st  Vice President of the United States</td>\n",
       "      <td>Federalist</td>\n",
       "      <td>Thomas Jefferson</td>\n",
       "    </tr>\n",
       "    <tr>\n",
       "      <th>3</th>\n",
       "      <td>Thomas Jefferson</td>\n",
       "      <td>Apr 13, 1743</td>\n",
       "      <td>Albemarle Co., Va.</td>\n",
       "      <td>July 4, 1826</td>\n",
       "      <td>Albemarle Co., Va.</td>\n",
       "      <td>March 4, 1801</td>\n",
       "      <td>March 4, 1809</td>\n",
       "      <td>Thomas Jefferson</td>\n",
       "      <td>2nd  Vice President of the United States</td>\n",
       "      <td>Democratic-  Republican</td>\n",
       "      <td>Aaron Burr</td>\n",
       "    </tr>\n",
       "    <tr>\n",
       "      <th>4</th>\n",
       "      <td>James Madison</td>\n",
       "      <td>Mar 16, 1751</td>\n",
       "      <td>Port Conway, Va.</td>\n",
       "      <td>June 28, 1836</td>\n",
       "      <td>Orange Co., Va.</td>\n",
       "      <td>March 4, 1809</td>\n",
       "      <td>March 4, 1817</td>\n",
       "      <td>James Madison</td>\n",
       "      <td>5th  United States Secretary of State   (1801–...</td>\n",
       "      <td>Democratic-  Republican</td>\n",
       "      <td>George Clinton</td>\n",
       "    </tr>\n",
       "    <tr>\n",
       "      <th>5</th>\n",
       "      <td>James Monroe</td>\n",
       "      <td>Apr 28, 1758</td>\n",
       "      <td>Westmoreland Co., Va.</td>\n",
       "      <td>July 4, 1831</td>\n",
       "      <td>New York, New York</td>\n",
       "      <td>March 4, 1817</td>\n",
       "      <td>March 4, 1825</td>\n",
       "      <td>James Monroe</td>\n",
       "      <td>7th  United States Secretary of State   (1811–...</td>\n",
       "      <td>Democratic-  Republican</td>\n",
       "      <td>Daniel D. Tompkins</td>\n",
       "    </tr>\n",
       "  </tbody>\n",
       "</table>\n",
       "</div>"
      ],
      "text/plain": [
       "                 president    birth_date            birth_place  \\\n",
       "seat_no                                                           \n",
       "1        George Washington  Feb 22, 1732  Westmoreland Co., Va.   \n",
       "2               John Adams  Oct 30, 1735          Quincy, Mass.   \n",
       "3         Thomas Jefferson  Apr 13, 1743     Albemarle Co., Va.   \n",
       "4            James Madison  Mar 16, 1751       Port Conway, Va.   \n",
       "5             James Monroe  Apr 28, 1758  Westmoreland Co., Va.   \n",
       "\n",
       "            death_date            death_loc           start            end  \\\n",
       "seat_no                                                                      \n",
       "1         Dec 14, 1799    Mount Vernon, Va.  April 30, 1789  March 4, 1797   \n",
       "2         July 4, 1826        Quincy, Mass.   March 4, 1797  March 4, 1801   \n",
       "3         July 4, 1826   Albemarle Co., Va.   March 4, 1801  March 4, 1809   \n",
       "4        June 28, 1836      Orange Co., Va.   March 4, 1809  March 4, 1817   \n",
       "5         July 4, 1831   New York, New York   March 4, 1817  March 4, 1825   \n",
       "\n",
       "                 president                                              prior  \\\n",
       "seat_no                                                                         \n",
       "1        George Washington  Commander-in-Chief  of the  Continental Army  ...   \n",
       "2               John Adams           1st  Vice President of the United States   \n",
       "3         Thomas Jefferson           2nd  Vice President of the United States   \n",
       "4            James Madison  5th  United States Secretary of State   (1801–...   \n",
       "5             James Monroe  7th  United States Secretary of State   (1811–...   \n",
       "\n",
       "                           party                vice  \n",
       "seat_no                                               \n",
       "1             Nonpartisan   [13]          John Adams  \n",
       "2                     Federalist    Thomas Jefferson  \n",
       "3        Democratic-  Republican          Aaron Burr  \n",
       "4        Democratic-  Republican      George Clinton  \n",
       "5        Democratic-  Republican  Daniel D. Tompkins  "
      ]
     },
     "execution_count": 8,
     "metadata": {},
     "output_type": "execute_result"
    }
   ],
   "source": [
    "df = pd.concat([scraped_df, pres_df], axis=1)\n",
    "df['seat_no'] = df.index.map(lambda x: x+1)\n",
    "df.set_index('seat_no', inplace=True)\n",
    "df.drop(46, inplace=True)\n",
    "df.head()"
   ]
  },
  {
   "cell_type": "code",
   "execution_count": null,
   "metadata": {},
   "outputs": [],
   "source": []
  },
  {
   "cell_type": "markdown",
   "metadata": {},
   "source": [
    "## First Ladies"
   ]
  },
  {
   "cell_type": "code",
   "execution_count": 9,
   "metadata": {
    "ExecuteTime": {
     "end_time": "2020-10-01T14:26:11.712237Z",
     "start_time": "2020-10-01T14:26:11.602235Z"
    }
   },
   "outputs": [],
   "source": [
    "f_soup = BeautifulSoup(f_html.content, 'html.parser')"
   ]
  },
  {
   "cell_type": "code",
   "execution_count": 10,
   "metadata": {
    "ExecuteTime": {
     "end_time": "2020-10-01T14:26:11.728237Z",
     "start_time": "2020-10-01T14:26:11.713237Z"
    }
   },
   "outputs": [],
   "source": [
    "table = f_soup.find_all('table')[1]\n",
    "lines = table.find_all('tr')\n",
    "idx = 1\n",
    "data = {}\n",
    "for line in lines:\n",
    "    span = line.find_all('span')\n",
    "    a = line.find_all('a')\n",
    "    try:\n",
    "        if span:\n",
    "            if a[3].text.startswith('['):\n",
    "                pres = a[4].text\n",
    "            else:\n",
    "                pres = a[3].text\n",
    "            data[idx] = dict(\n",
    "                relation=span[1].text,\n",
    "                birth_death=span[0].text,\n",
    "                name=a[1].text,\n",
    "                president=pres\n",
    "            )\n",
    "            idx += 1\n",
    "    except IndexError:\n",
    "        pass\n",
    "    \n"
   ]
  },
  {
   "cell_type": "code",
   "execution_count": 11,
   "metadata": {
    "ExecuteTime": {
     "end_time": "2020-10-01T14:26:11.744239Z",
     "start_time": "2020-10-01T14:26:11.729239Z"
    }
   },
   "outputs": [],
   "source": [
    "lady_df = pd.DataFrame(data)\n",
    "lady_df = lady_df.transpose()"
   ]
  },
  {
   "cell_type": "markdown",
   "metadata": {
    "ExecuteTime": {
     "end_time": "2020-10-01T12:42:35.367758Z",
     "start_time": "2020-10-01T12:42:35.350760Z"
    }
   },
   "source": [
    "### Saving to clean\n",
    "> <code>lady_df.to_csv('first_ladies.csv')\n",
    "def return_time():\n",
    "    struct = time.strptime(str(input()), \"(%Y-%m-%d)\")\n",
    "    print(time.strftime(\"%B %d, %Y\", struct))\n",
    "</code>\n",
    "+ above for some dates\n",
    "+ minor changes to two first ladies born outside U.S"
   ]
  },
  {
   "cell_type": "code",
   "execution_count": 12,
   "metadata": {
    "ExecuteTime": {
     "end_time": "2020-10-01T14:26:11.760238Z",
     "start_time": "2020-10-01T14:26:11.745238Z"
    }
   },
   "outputs": [],
   "source": [
    "lady_df = pd.read_csv(\"first_ladies.csv\", encoding='latin1')\n",
    "lady_df.drop(lady_df.columns[0], axis=1, inplace=True)"
   ]
  },
  {
   "cell_type": "code",
   "execution_count": 13,
   "metadata": {
    "ExecuteTime": {
     "end_time": "2020-10-01T14:26:11.776236Z",
     "start_time": "2020-10-01T14:26:11.761237Z"
    }
   },
   "outputs": [
    {
     "data": {
      "text/html": [
       "<div>\n",
       "<style scoped>\n",
       "    .dataframe tbody tr th:only-of-type {\n",
       "        vertical-align: middle;\n",
       "    }\n",
       "\n",
       "    .dataframe tbody tr th {\n",
       "        vertical-align: top;\n",
       "    }\n",
       "\n",
       "    .dataframe thead th {\n",
       "        text-align: right;\n",
       "    }\n",
       "</style>\n",
       "<table border=\"1\" class=\"dataframe\">\n",
       "  <thead>\n",
       "    <tr style=\"text-align: right;\">\n",
       "      <th></th>\n",
       "      <th>relation</th>\n",
       "      <th>birth_death</th>\n",
       "      <th>name</th>\n",
       "      <th>president</th>\n",
       "      <th>born</th>\n",
       "      <th>death</th>\n",
       "    </tr>\n",
       "  </thead>\n",
       "  <tbody>\n",
       "    <tr>\n",
       "      <th>0</th>\n",
       "      <td>m. January 6, 1759</td>\n",
       "      <td>June 13, 1731 Died May 22, 1802(aged 70)</td>\n",
       "      <td>Martha Dandridge</td>\n",
       "      <td>George Washington</td>\n",
       "      <td>June 13, 1731</td>\n",
       "      <td>May 22, 1802(aged 70)</td>\n",
       "    </tr>\n",
       "    <tr>\n",
       "      <th>1</th>\n",
       "      <td>m. October 25, 1764</td>\n",
       "      <td>November 22, 1744 Died October 28, 1818(aged 73)</td>\n",
       "      <td>Abigail Smith</td>\n",
       "      <td>John Adams</td>\n",
       "      <td>November 22, 1744</td>\n",
       "      <td>October 28, 1818(aged 73)</td>\n",
       "    </tr>\n",
       "    <tr>\n",
       "      <th>2</th>\n",
       "      <td>Father</td>\n",
       "      <td>September 27, 1772 Died October 10, 1836(aged 64)</td>\n",
       "      <td>Martha Jefferson</td>\n",
       "      <td>Thomas Jefferson</td>\n",
       "      <td>September 27, 1772</td>\n",
       "      <td>October 10, 1836(aged 64)</td>\n",
       "    </tr>\n",
       "    <tr>\n",
       "      <th>3</th>\n",
       "      <td>m. September 14, 1794</td>\n",
       "      <td>May 20, 1768 Died July 12, 1849(aged 81)</td>\n",
       "      <td>Dolley Payne</td>\n",
       "      <td>James Madison</td>\n",
       "      <td>May 20, 1768</td>\n",
       "      <td>July 12, 1849(aged 81)</td>\n",
       "    </tr>\n",
       "    <tr>\n",
       "      <th>4</th>\n",
       "      <td>m. February 16, 1786</td>\n",
       "      <td>June 30, 1768 Died September 23, 1830(aged 62)</td>\n",
       "      <td>Elizabeth Kortright</td>\n",
       "      <td>James Monroe</td>\n",
       "      <td>June 30, 1768</td>\n",
       "      <td>September 23, 1830(aged 62)</td>\n",
       "    </tr>\n",
       "  </tbody>\n",
       "</table>\n",
       "</div>"
      ],
      "text/plain": [
       "                relation                                        birth_death  \\\n",
       "0     m. January 6, 1759           June 13, 1731 Died May 22, 1802(aged 70)   \n",
       "1    m. October 25, 1764   November 22, 1744 Died October 28, 1818(aged 73)   \n",
       "2                 Father  September 27, 1772 Died October 10, 1836(aged 64)   \n",
       "3  m. September 14, 1794           May 20, 1768 Died July 12, 1849(aged 81)   \n",
       "4   m. February 16, 1786     June 30, 1768 Died September 23, 1830(aged 62)   \n",
       "\n",
       "                  name          president                born  \\\n",
       "0     Martha Dandridge  George Washington       June 13, 1731   \n",
       "1        Abigail Smith         John Adams   November 22, 1744   \n",
       "2     Martha Jefferson   Thomas Jefferson  September 27, 1772   \n",
       "3         Dolley Payne      James Madison        May 20, 1768   \n",
       "4  Elizabeth Kortright       James Monroe       June 30, 1768   \n",
       "\n",
       "                         death  \n",
       "0        May 22, 1802(aged 70)  \n",
       "1    October 28, 1818(aged 73)  \n",
       "2    October 10, 1836(aged 64)  \n",
       "3       July 12, 1849(aged 81)  \n",
       "4  September 23, 1830(aged 62)  "
      ]
     },
     "execution_count": 13,
     "metadata": {},
     "output_type": "execute_result"
    }
   ],
   "source": [
    "lady_df['born'] = lady_df['birth_death'].apply(lambda x: x.split(' Died ')[0])\n",
    "lady_df['death'] = lady_df['birth_death'].apply(lambda x: x.split(' Died ')[1])\n",
    "lady_df.head()"
   ]
  },
  {
   "cell_type": "code",
   "execution_count": 14,
   "metadata": {
    "ExecuteTime": {
     "end_time": "2020-10-01T14:26:11.792236Z",
     "start_time": "2020-10-01T14:26:11.777237Z"
    }
   },
   "outputs": [
    {
     "data": {
      "text/html": [
       "<div>\n",
       "<style scoped>\n",
       "    .dataframe tbody tr th:only-of-type {\n",
       "        vertical-align: middle;\n",
       "    }\n",
       "\n",
       "    .dataframe tbody tr th {\n",
       "        vertical-align: top;\n",
       "    }\n",
       "\n",
       "    .dataframe thead th {\n",
       "        text-align: right;\n",
       "    }\n",
       "</style>\n",
       "<table border=\"1\" class=\"dataframe\">\n",
       "  <thead>\n",
       "    <tr style=\"text-align: right;\">\n",
       "      <th></th>\n",
       "      <th>relation</th>\n",
       "      <th>birth_death</th>\n",
       "      <th>name</th>\n",
       "      <th>president</th>\n",
       "      <th>born</th>\n",
       "      <th>death</th>\n",
       "      <th>age_of_death</th>\n",
       "    </tr>\n",
       "  </thead>\n",
       "  <tbody>\n",
       "    <tr>\n",
       "      <th>0</th>\n",
       "      <td>m. January 6, 1759</td>\n",
       "      <td>June 13, 1731 Died May 22, 1802(aged 70)</td>\n",
       "      <td>Martha Dandridge</td>\n",
       "      <td>George Washington</td>\n",
       "      <td>June 13, 1731</td>\n",
       "      <td>May 22, 1802(aged 70)</td>\n",
       "      <td>70</td>\n",
       "    </tr>\n",
       "    <tr>\n",
       "      <th>1</th>\n",
       "      <td>m. October 25, 1764</td>\n",
       "      <td>November 22, 1744 Died October 28, 1818(aged 73)</td>\n",
       "      <td>Abigail Smith</td>\n",
       "      <td>John Adams</td>\n",
       "      <td>November 22, 1744</td>\n",
       "      <td>October 28, 1818(aged 73)</td>\n",
       "      <td>73</td>\n",
       "    </tr>\n",
       "    <tr>\n",
       "      <th>2</th>\n",
       "      <td>Father</td>\n",
       "      <td>September 27, 1772 Died October 10, 1836(aged 64)</td>\n",
       "      <td>Martha Jefferson</td>\n",
       "      <td>Thomas Jefferson</td>\n",
       "      <td>September 27, 1772</td>\n",
       "      <td>October 10, 1836(aged 64)</td>\n",
       "      <td>64</td>\n",
       "    </tr>\n",
       "    <tr>\n",
       "      <th>3</th>\n",
       "      <td>m. September 14, 1794</td>\n",
       "      <td>May 20, 1768 Died July 12, 1849(aged 81)</td>\n",
       "      <td>Dolley Payne</td>\n",
       "      <td>James Madison</td>\n",
       "      <td>May 20, 1768</td>\n",
       "      <td>July 12, 1849(aged 81)</td>\n",
       "      <td>81</td>\n",
       "    </tr>\n",
       "    <tr>\n",
       "      <th>4</th>\n",
       "      <td>m. February 16, 1786</td>\n",
       "      <td>June 30, 1768 Died September 23, 1830(aged 62)</td>\n",
       "      <td>Elizabeth Kortright</td>\n",
       "      <td>James Monroe</td>\n",
       "      <td>June 30, 1768</td>\n",
       "      <td>September 23, 1830(aged 62)</td>\n",
       "      <td>62</td>\n",
       "    </tr>\n",
       "  </tbody>\n",
       "</table>\n",
       "</div>"
      ],
      "text/plain": [
       "                relation                                        birth_death  \\\n",
       "0     m. January 6, 1759           June 13, 1731 Died May 22, 1802(aged 70)   \n",
       "1    m. October 25, 1764   November 22, 1744 Died October 28, 1818(aged 73)   \n",
       "2                 Father  September 27, 1772 Died October 10, 1836(aged 64)   \n",
       "3  m. September 14, 1794           May 20, 1768 Died July 12, 1849(aged 81)   \n",
       "4   m. February 16, 1786     June 30, 1768 Died September 23, 1830(aged 62)   \n",
       "\n",
       "                  name          president                born  \\\n",
       "0     Martha Dandridge  George Washington       June 13, 1731   \n",
       "1        Abigail Smith         John Adams   November 22, 1744   \n",
       "2     Martha Jefferson   Thomas Jefferson  September 27, 1772   \n",
       "3         Dolley Payne      James Madison        May 20, 1768   \n",
       "4  Elizabeth Kortright       James Monroe       June 30, 1768   \n",
       "\n",
       "                         death age_of_death  \n",
       "0        May 22, 1802(aged 70)           70  \n",
       "1    October 28, 1818(aged 73)           73  \n",
       "2    October 10, 1836(aged 64)           64  \n",
       "3       July 12, 1849(aged 81)           81  \n",
       "4  September 23, 1830(aged 62)           62  "
      ]
     },
     "execution_count": 14,
     "metadata": {},
     "output_type": "execute_result"
    }
   ],
   "source": [
    "def deal_with_death(x):\n",
    "    split = x.split('(')\n",
    "    try:\n",
    "        return (split[1].split(' ')[1][:2])\n",
    "    except:\n",
    "        return np.nan\n",
    "lady_df['age_of_death'] = lady_df['death'].apply(lambda x: deal_with_death(x))\n",
    "lady_df.head()"
   ]
  },
  {
   "cell_type": "code",
   "execution_count": 15,
   "metadata": {
    "ExecuteTime": {
     "end_time": "2020-10-01T14:26:11.808239Z",
     "start_time": "2020-10-01T14:26:11.793239Z"
    }
   },
   "outputs": [
    {
     "data": {
      "text/html": [
       "<div>\n",
       "<style scoped>\n",
       "    .dataframe tbody tr th:only-of-type {\n",
       "        vertical-align: middle;\n",
       "    }\n",
       "\n",
       "    .dataframe tbody tr th {\n",
       "        vertical-align: top;\n",
       "    }\n",
       "\n",
       "    .dataframe thead th {\n",
       "        text-align: right;\n",
       "    }\n",
       "</style>\n",
       "<table border=\"1\" class=\"dataframe\">\n",
       "  <thead>\n",
       "    <tr style=\"text-align: right;\">\n",
       "      <th></th>\n",
       "      <th>relation</th>\n",
       "      <th>name</th>\n",
       "      <th>president</th>\n",
       "      <th>born</th>\n",
       "      <th>death</th>\n",
       "      <th>age_of_death</th>\n",
       "    </tr>\n",
       "  </thead>\n",
       "  <tbody>\n",
       "    <tr>\n",
       "      <th>0</th>\n",
       "      <td>m. January 6, 1759</td>\n",
       "      <td>Martha Dandridge</td>\n",
       "      <td>George Washington</td>\n",
       "      <td>June 13, 1731</td>\n",
       "      <td>May 22, 1802</td>\n",
       "      <td>70</td>\n",
       "    </tr>\n",
       "    <tr>\n",
       "      <th>1</th>\n",
       "      <td>m. October 25, 1764</td>\n",
       "      <td>Abigail Smith</td>\n",
       "      <td>John Adams</td>\n",
       "      <td>November 22, 1744</td>\n",
       "      <td>October 28, 1818</td>\n",
       "      <td>73</td>\n",
       "    </tr>\n",
       "    <tr>\n",
       "      <th>2</th>\n",
       "      <td>Father</td>\n",
       "      <td>Martha Jefferson</td>\n",
       "      <td>Thomas Jefferson</td>\n",
       "      <td>September 27, 1772</td>\n",
       "      <td>October 10, 1836</td>\n",
       "      <td>64</td>\n",
       "    </tr>\n",
       "    <tr>\n",
       "      <th>3</th>\n",
       "      <td>m. September 14, 1794</td>\n",
       "      <td>Dolley Payne</td>\n",
       "      <td>James Madison</td>\n",
       "      <td>May 20, 1768</td>\n",
       "      <td>July 12, 1849</td>\n",
       "      <td>81</td>\n",
       "    </tr>\n",
       "    <tr>\n",
       "      <th>4</th>\n",
       "      <td>m. February 16, 1786</td>\n",
       "      <td>Elizabeth Kortright</td>\n",
       "      <td>James Monroe</td>\n",
       "      <td>June 30, 1768</td>\n",
       "      <td>September 23, 1830</td>\n",
       "      <td>62</td>\n",
       "    </tr>\n",
       "  </tbody>\n",
       "</table>\n",
       "</div>"
      ],
      "text/plain": [
       "                relation                 name          president  \\\n",
       "0     m. January 6, 1759     Martha Dandridge  George Washington   \n",
       "1    m. October 25, 1764        Abigail Smith         John Adams   \n",
       "2                 Father     Martha Jefferson   Thomas Jefferson   \n",
       "3  m. September 14, 1794         Dolley Payne      James Madison   \n",
       "4   m. February 16, 1786  Elizabeth Kortright       James Monroe   \n",
       "\n",
       "                 born               death age_of_death  \n",
       "0       June 13, 1731        May 22, 1802           70  \n",
       "1   November 22, 1744    October 28, 1818           73  \n",
       "2  September 27, 1772    October 10, 1836           64  \n",
       "3        May 20, 1768       July 12, 1849           81  \n",
       "4       June 30, 1768  September 23, 1830           62  "
      ]
     },
     "execution_count": 15,
     "metadata": {},
     "output_type": "execute_result"
    }
   ],
   "source": [
    "def deal_with_death2(x):\n",
    "    split = x.split('(')\n",
    "    if split[0] == '.':\n",
    "        return np.nan\n",
    "    else:\n",
    "        return split[0]\n",
    "lady_df['death'] = lady_df['death'].apply(lambda x: deal_with_death2(x))\n",
    "lady_df.drop('birth_death', axis=1, inplace=True)\n",
    "lady_df.head()"
   ]
  },
  {
   "cell_type": "code",
   "execution_count": 16,
   "metadata": {
    "ExecuteTime": {
     "end_time": "2020-10-01T14:26:11.824236Z",
     "start_time": "2020-10-01T14:26:11.809240Z"
    }
   },
   "outputs": [
    {
     "data": {
      "text/html": [
       "<div>\n",
       "<style scoped>\n",
       "    .dataframe tbody tr th:only-of-type {\n",
       "        vertical-align: middle;\n",
       "    }\n",
       "\n",
       "    .dataframe tbody tr th {\n",
       "        vertical-align: top;\n",
       "    }\n",
       "\n",
       "    .dataframe thead th {\n",
       "        text-align: right;\n",
       "    }\n",
       "</style>\n",
       "<table border=\"1\" class=\"dataframe\">\n",
       "  <thead>\n",
       "    <tr style=\"text-align: right;\">\n",
       "      <th></th>\n",
       "      <th>relation</th>\n",
       "      <th>name</th>\n",
       "      <th>president</th>\n",
       "      <th>born</th>\n",
       "      <th>death</th>\n",
       "      <th>age_of_death</th>\n",
       "      <th>marriage_date</th>\n",
       "    </tr>\n",
       "  </thead>\n",
       "  <tbody>\n",
       "    <tr>\n",
       "      <th>0</th>\n",
       "      <td>m. January 6, 1759</td>\n",
       "      <td>Martha Dandridge</td>\n",
       "      <td>George Washington</td>\n",
       "      <td>June 13, 1731</td>\n",
       "      <td>May 22, 1802</td>\n",
       "      <td>70</td>\n",
       "      <td>January 6, 1759</td>\n",
       "    </tr>\n",
       "    <tr>\n",
       "      <th>1</th>\n",
       "      <td>m. October 25, 1764</td>\n",
       "      <td>Abigail Smith</td>\n",
       "      <td>John Adams</td>\n",
       "      <td>November 22, 1744</td>\n",
       "      <td>October 28, 1818</td>\n",
       "      <td>73</td>\n",
       "      <td>October 25, 1764</td>\n",
       "    </tr>\n",
       "    <tr>\n",
       "      <th>2</th>\n",
       "      <td>Father</td>\n",
       "      <td>Martha Jefferson</td>\n",
       "      <td>Thomas Jefferson</td>\n",
       "      <td>September 27, 1772</td>\n",
       "      <td>October 10, 1836</td>\n",
       "      <td>64</td>\n",
       "      <td>NaN</td>\n",
       "    </tr>\n",
       "    <tr>\n",
       "      <th>3</th>\n",
       "      <td>m. September 14, 1794</td>\n",
       "      <td>Dolley Payne</td>\n",
       "      <td>James Madison</td>\n",
       "      <td>May 20, 1768</td>\n",
       "      <td>July 12, 1849</td>\n",
       "      <td>81</td>\n",
       "      <td>September 14, 1794</td>\n",
       "    </tr>\n",
       "    <tr>\n",
       "      <th>4</th>\n",
       "      <td>m. February 16, 1786</td>\n",
       "      <td>Elizabeth Kortright</td>\n",
       "      <td>James Monroe</td>\n",
       "      <td>June 30, 1768</td>\n",
       "      <td>September 23, 1830</td>\n",
       "      <td>62</td>\n",
       "      <td>February 16, 1786</td>\n",
       "    </tr>\n",
       "  </tbody>\n",
       "</table>\n",
       "</div>"
      ],
      "text/plain": [
       "                relation                 name          president  \\\n",
       "0     m. January 6, 1759     Martha Dandridge  George Washington   \n",
       "1    m. October 25, 1764        Abigail Smith         John Adams   \n",
       "2                 Father     Martha Jefferson   Thomas Jefferson   \n",
       "3  m. September 14, 1794         Dolley Payne      James Madison   \n",
       "4   m. February 16, 1786  Elizabeth Kortright       James Monroe   \n",
       "\n",
       "                 born               death age_of_death       marriage_date  \n",
       "0       June 13, 1731        May 22, 1802           70     January 6, 1759  \n",
       "1   November 22, 1744    October 28, 1818           73    October 25, 1764  \n",
       "2  September 27, 1772    October 10, 1836           64                 NaN  \n",
       "3        May 20, 1768       July 12, 1849           81  September 14, 1794  \n",
       "4       June 30, 1768  September 23, 1830           62   February 16, 1786  "
      ]
     },
     "execution_count": 16,
     "metadata": {},
     "output_type": "execute_result"
    }
   ],
   "source": [
    "def deal_with_marriage_date(x):\n",
    "    try:\n",
    "        return x.split('. ')[1]\n",
    "    except:\n",
    "        return np.nan\n",
    "lady_df['marriage_date'] = lady_df['relation'].apply(lambda x: deal_with_marriage_date(x))\n",
    "lady_df.head()"
   ]
  },
  {
   "cell_type": "code",
   "execution_count": 17,
   "metadata": {
    "ExecuteTime": {
     "end_time": "2020-10-01T14:26:11.839235Z",
     "start_time": "2020-10-01T14:26:11.825239Z"
    }
   },
   "outputs": [],
   "source": [
    "def clean_relation(x):\n",
    "    if 'm.' in x:\n",
    "        return \"Husband\"\n",
    "    else:\n",
    "        return x\n",
    "lady_df['relation'] = lady_df['relation'].apply(lambda x: clean_relation(x))"
   ]
  },
  {
   "cell_type": "code",
   "execution_count": 23,
   "metadata": {
    "ExecuteTime": {
     "end_time": "2020-10-01T14:27:40.415158Z",
     "start_time": "2020-10-01T14:27:40.400158Z"
    }
   },
   "outputs": [],
   "source": [
    "def clean_born(x):\n",
    "    if len(x.split('(')) > 1:\n",
    "        return x.split('(')[0]\n",
    "    else:\n",
    "        return x\n",
    "lady_df['born'] = lady_df['born'].apply(lambda x: clean_born(x))"
   ]
  },
  {
   "cell_type": "code",
   "execution_count": 24,
   "metadata": {
    "ExecuteTime": {
     "end_time": "2020-10-01T14:27:40.954061Z",
     "start_time": "2020-10-01T14:27:40.939483Z"
    }
   },
   "outputs": [
    {
     "data": {
      "text/html": [
       "<div>\n",
       "<style scoped>\n",
       "    .dataframe tbody tr th:only-of-type {\n",
       "        vertical-align: middle;\n",
       "    }\n",
       "\n",
       "    .dataframe tbody tr th {\n",
       "        vertical-align: top;\n",
       "    }\n",
       "\n",
       "    .dataframe thead th {\n",
       "        text-align: right;\n",
       "    }\n",
       "</style>\n",
       "<table border=\"1\" class=\"dataframe\">\n",
       "  <thead>\n",
       "    <tr style=\"text-align: right;\">\n",
       "      <th></th>\n",
       "      <th>relation</th>\n",
       "      <th>name</th>\n",
       "      <th>president</th>\n",
       "      <th>born</th>\n",
       "      <th>death</th>\n",
       "      <th>age_of_death</th>\n",
       "      <th>marriage_date</th>\n",
       "    </tr>\n",
       "  </thead>\n",
       "  <tbody>\n",
       "    <tr>\n",
       "      <th>0</th>\n",
       "      <td>Husband</td>\n",
       "      <td>Martha Dandridge</td>\n",
       "      <td>George Washington</td>\n",
       "      <td>June 13, 1731</td>\n",
       "      <td>May 22, 1802</td>\n",
       "      <td>70</td>\n",
       "      <td>January 6, 1759</td>\n",
       "    </tr>\n",
       "    <tr>\n",
       "      <th>1</th>\n",
       "      <td>Husband</td>\n",
       "      <td>Abigail Smith</td>\n",
       "      <td>John Adams</td>\n",
       "      <td>November 22, 1744</td>\n",
       "      <td>October 28, 1818</td>\n",
       "      <td>73</td>\n",
       "      <td>October 25, 1764</td>\n",
       "    </tr>\n",
       "    <tr>\n",
       "      <th>2</th>\n",
       "      <td>Father</td>\n",
       "      <td>Martha Jefferson</td>\n",
       "      <td>Thomas Jefferson</td>\n",
       "      <td>September 27, 1772</td>\n",
       "      <td>October 10, 1836</td>\n",
       "      <td>64</td>\n",
       "      <td>NaN</td>\n",
       "    </tr>\n",
       "    <tr>\n",
       "      <th>3</th>\n",
       "      <td>Husband</td>\n",
       "      <td>Dolley Payne</td>\n",
       "      <td>James Madison</td>\n",
       "      <td>May 20, 1768</td>\n",
       "      <td>July 12, 1849</td>\n",
       "      <td>81</td>\n",
       "      <td>September 14, 1794</td>\n",
       "    </tr>\n",
       "    <tr>\n",
       "      <th>4</th>\n",
       "      <td>Husband</td>\n",
       "      <td>Elizabeth Kortright</td>\n",
       "      <td>James Monroe</td>\n",
       "      <td>June 30, 1768</td>\n",
       "      <td>September 23, 1830</td>\n",
       "      <td>62</td>\n",
       "      <td>February 16, 1786</td>\n",
       "    </tr>\n",
       "  </tbody>\n",
       "</table>\n",
       "</div>"
      ],
      "text/plain": [
       "  relation                 name          president                born  \\\n",
       "0  Husband     Martha Dandridge  George Washington       June 13, 1731   \n",
       "1  Husband        Abigail Smith         John Adams   November 22, 1744   \n",
       "2   Father     Martha Jefferson   Thomas Jefferson  September 27, 1772   \n",
       "3  Husband         Dolley Payne      James Madison        May 20, 1768   \n",
       "4  Husband  Elizabeth Kortright       James Monroe       June 30, 1768   \n",
       "\n",
       "                death age_of_death       marriage_date  \n",
       "0        May 22, 1802           70     January 6, 1759  \n",
       "1    October 28, 1818           73    October 25, 1764  \n",
       "2    October 10, 1836           64                 NaN  \n",
       "3       July 12, 1849           81  September 14, 1794  \n",
       "4  September 23, 1830           62   February 16, 1786  "
      ]
     },
     "execution_count": 24,
     "metadata": {},
     "output_type": "execute_result"
    }
   ],
   "source": [
    "lady_df.head()"
   ]
  },
  {
   "cell_type": "code",
   "execution_count": 25,
   "metadata": {
    "ExecuteTime": {
     "end_time": "2020-10-01T14:27:41.303085Z",
     "start_time": "2020-10-01T14:27:41.284088Z"
    }
   },
   "outputs": [
    {
     "data": {
      "text/html": [
       "<div>\n",
       "<style scoped>\n",
       "    .dataframe tbody tr th:only-of-type {\n",
       "        vertical-align: middle;\n",
       "    }\n",
       "\n",
       "    .dataframe tbody tr th {\n",
       "        vertical-align: top;\n",
       "    }\n",
       "\n",
       "    .dataframe thead th {\n",
       "        text-align: right;\n",
       "    }\n",
       "</style>\n",
       "<table border=\"1\" class=\"dataframe\">\n",
       "  <thead>\n",
       "    <tr style=\"text-align: right;\">\n",
       "      <th></th>\n",
       "      <th>president</th>\n",
       "      <th>birth_date</th>\n",
       "      <th>birth_place</th>\n",
       "      <th>death_date</th>\n",
       "      <th>death_loc</th>\n",
       "      <th>start</th>\n",
       "      <th>end</th>\n",
       "      <th>president</th>\n",
       "      <th>prior</th>\n",
       "      <th>party</th>\n",
       "      <th>vice</th>\n",
       "    </tr>\n",
       "    <tr>\n",
       "      <th>seat_no</th>\n",
       "      <th></th>\n",
       "      <th></th>\n",
       "      <th></th>\n",
       "      <th></th>\n",
       "      <th></th>\n",
       "      <th></th>\n",
       "      <th></th>\n",
       "      <th></th>\n",
       "      <th></th>\n",
       "      <th></th>\n",
       "      <th></th>\n",
       "    </tr>\n",
       "  </thead>\n",
       "  <tbody>\n",
       "    <tr>\n",
       "      <th>1</th>\n",
       "      <td>George Washington</td>\n",
       "      <td>Feb 22, 1732</td>\n",
       "      <td>Westmoreland Co., Va.</td>\n",
       "      <td>Dec 14, 1799</td>\n",
       "      <td>Mount Vernon, Va.</td>\n",
       "      <td>April 30, 1789</td>\n",
       "      <td>March 4, 1797</td>\n",
       "      <td>George Washington</td>\n",
       "      <td>Commander-in-Chief  of the  Continental Army  ...</td>\n",
       "      <td>Nonpartisan   [13]</td>\n",
       "      <td>John Adams</td>\n",
       "    </tr>\n",
       "    <tr>\n",
       "      <th>2</th>\n",
       "      <td>John Adams</td>\n",
       "      <td>Oct 30, 1735</td>\n",
       "      <td>Quincy, Mass.</td>\n",
       "      <td>July 4, 1826</td>\n",
       "      <td>Quincy, Mass.</td>\n",
       "      <td>March 4, 1797</td>\n",
       "      <td>March 4, 1801</td>\n",
       "      <td>John Adams</td>\n",
       "      <td>1st  Vice President of the United States</td>\n",
       "      <td>Federalist</td>\n",
       "      <td>Thomas Jefferson</td>\n",
       "    </tr>\n",
       "    <tr>\n",
       "      <th>3</th>\n",
       "      <td>Thomas Jefferson</td>\n",
       "      <td>Apr 13, 1743</td>\n",
       "      <td>Albemarle Co., Va.</td>\n",
       "      <td>July 4, 1826</td>\n",
       "      <td>Albemarle Co., Va.</td>\n",
       "      <td>March 4, 1801</td>\n",
       "      <td>March 4, 1809</td>\n",
       "      <td>Thomas Jefferson</td>\n",
       "      <td>2nd  Vice President of the United States</td>\n",
       "      <td>Democratic-  Republican</td>\n",
       "      <td>Aaron Burr</td>\n",
       "    </tr>\n",
       "    <tr>\n",
       "      <th>4</th>\n",
       "      <td>James Madison</td>\n",
       "      <td>Mar 16, 1751</td>\n",
       "      <td>Port Conway, Va.</td>\n",
       "      <td>June 28, 1836</td>\n",
       "      <td>Orange Co., Va.</td>\n",
       "      <td>March 4, 1809</td>\n",
       "      <td>March 4, 1817</td>\n",
       "      <td>James Madison</td>\n",
       "      <td>5th  United States Secretary of State   (1801–...</td>\n",
       "      <td>Democratic-  Republican</td>\n",
       "      <td>George Clinton</td>\n",
       "    </tr>\n",
       "    <tr>\n",
       "      <th>5</th>\n",
       "      <td>James Monroe</td>\n",
       "      <td>Apr 28, 1758</td>\n",
       "      <td>Westmoreland Co., Va.</td>\n",
       "      <td>July 4, 1831</td>\n",
       "      <td>New York, New York</td>\n",
       "      <td>March 4, 1817</td>\n",
       "      <td>March 4, 1825</td>\n",
       "      <td>James Monroe</td>\n",
       "      <td>7th  United States Secretary of State   (1811–...</td>\n",
       "      <td>Democratic-  Republican</td>\n",
       "      <td>Daniel D. Tompkins</td>\n",
       "    </tr>\n",
       "  </tbody>\n",
       "</table>\n",
       "</div>"
      ],
      "text/plain": [
       "                 president    birth_date            birth_place  \\\n",
       "seat_no                                                           \n",
       "1        George Washington  Feb 22, 1732  Westmoreland Co., Va.   \n",
       "2               John Adams  Oct 30, 1735          Quincy, Mass.   \n",
       "3         Thomas Jefferson  Apr 13, 1743     Albemarle Co., Va.   \n",
       "4            James Madison  Mar 16, 1751       Port Conway, Va.   \n",
       "5             James Monroe  Apr 28, 1758  Westmoreland Co., Va.   \n",
       "\n",
       "            death_date            death_loc           start            end  \\\n",
       "seat_no                                                                      \n",
       "1         Dec 14, 1799    Mount Vernon, Va.  April 30, 1789  March 4, 1797   \n",
       "2         July 4, 1826        Quincy, Mass.   March 4, 1797  March 4, 1801   \n",
       "3         July 4, 1826   Albemarle Co., Va.   March 4, 1801  March 4, 1809   \n",
       "4        June 28, 1836      Orange Co., Va.   March 4, 1809  March 4, 1817   \n",
       "5         July 4, 1831   New York, New York   March 4, 1817  March 4, 1825   \n",
       "\n",
       "                 president                                              prior  \\\n",
       "seat_no                                                                         \n",
       "1        George Washington  Commander-in-Chief  of the  Continental Army  ...   \n",
       "2               John Adams           1st  Vice President of the United States   \n",
       "3         Thomas Jefferson           2nd  Vice President of the United States   \n",
       "4            James Madison  5th  United States Secretary of State   (1801–...   \n",
       "5             James Monroe  7th  United States Secretary of State   (1811–...   \n",
       "\n",
       "                           party                vice  \n",
       "seat_no                                               \n",
       "1             Nonpartisan   [13]          John Adams  \n",
       "2                     Federalist    Thomas Jefferson  \n",
       "3        Democratic-  Republican          Aaron Burr  \n",
       "4        Democratic-  Republican      George Clinton  \n",
       "5        Democratic-  Republican  Daniel D. Tompkins  "
      ]
     },
     "execution_count": 25,
     "metadata": {},
     "output_type": "execute_result"
    }
   ],
   "source": [
    "pres_df = df.copy()\n",
    "pres_df.head()"
   ]
  },
  {
   "cell_type": "code",
   "execution_count": 26,
   "metadata": {
    "ExecuteTime": {
     "end_time": "2020-10-01T14:27:43.551080Z",
     "start_time": "2020-10-01T14:27:43.539082Z"
    }
   },
   "outputs": [],
   "source": [
    "pres_df.to_csv('data/presidents.csv')\n",
    "lady_df.to_csv('data/first_ladies.csv')"
   ]
  }
 ],
 "metadata": {
  "kernelspec": {
   "display_name": "learn-env",
   "language": "python",
   "name": "learn-env"
  },
  "language_info": {
   "codemirror_mode": {
    "name": "ipython",
    "version": 3
   },
   "file_extension": ".py",
   "mimetype": "text/x-python",
   "name": "python",
   "nbconvert_exporter": "python",
   "pygments_lexer": "ipython3",
   "version": "3.6.9"
  },
  "toc": {
   "base_numbering": 1,
   "nav_menu": {},
   "number_sections": true,
   "sideBar": true,
   "skip_h1_title": false,
   "title_cell": "Table of Contents",
   "title_sidebar": "Contents",
   "toc_cell": true,
   "toc_position": {},
   "toc_section_display": true,
   "toc_window_display": false
  }
 },
 "nbformat": 4,
 "nbformat_minor": 2
}
